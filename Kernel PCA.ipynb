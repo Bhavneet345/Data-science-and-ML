{
 "cells": [
  {
   "cell_type": "markdown",
   "id": "5b895a15",
   "metadata": {},
   "source": [
    "### Importing the libraries"
   ]
  },
  {
   "cell_type": "code",
   "execution_count": 1,
   "id": "69c9b2b0",
   "metadata": {},
   "outputs": [],
   "source": [
    "import numpy as np\n",
    "import pandas as pd"
   ]
  },
  {
   "cell_type": "markdown",
   "id": "1a9e5282",
   "metadata": {},
   "source": [
    "### Importing the Dataset"
   ]
  },
  {
   "cell_type": "code",
   "execution_count": 4,
   "id": "872eaa10",
   "metadata": {},
   "outputs": [],
   "source": [
    "data = pd.read_csv(\"Wine.csv\")\n",
    "X = data.iloc[:,:-1].values\n",
    "y = data.iloc[:,-1:].values"
   ]
  },
  {
   "cell_type": "markdown",
   "id": "5ecdb316",
   "metadata": {},
   "source": [
    "### Splitting the dataset"
   ]
  },
  {
   "cell_type": "code",
   "execution_count": 5,
   "id": "d0f589f0",
   "metadata": {},
   "outputs": [],
   "source": [
    "from sklearn.model_selection import train_test_split\n",
    "X_train, X_test, y_train, y_test = train_test_split(X,y,test_size=0.2,random_state=0)"
   ]
  },
  {
   "cell_type": "markdown",
   "id": "858479a3",
   "metadata": {},
   "source": [
    "### Feature scaling"
   ]
  },
  {
   "cell_type": "code",
   "execution_count": 9,
   "id": "8c0725b8",
   "metadata": {},
   "outputs": [],
   "source": [
    "from sklearn.preprocessing import StandardScaler\n",
    "scaler = StandardScaler()\n",
    "X_train,X_test = scaler.fit_transform(X_train),scaler.transform(X_test)"
   ]
  },
  {
   "cell_type": "markdown",
   "id": "04b454df",
   "metadata": {},
   "source": [
    "### Implementing KERNEL PCA"
   ]
  },
  {
   "cell_type": "code",
   "execution_count": 11,
   "id": "095173e7",
   "metadata": {},
   "outputs": [],
   "source": [
    "from sklearn.decomposition import KernelPCA\n",
    "k_pca = KernelPCA(n_components = 2, kernel = 'rbf')\n",
    "X_train,X_test =  k_pca.fit_transform(X_train), k_pca.transform(X_test)"
   ]
  },
  {
   "cell_type": "markdown",
   "id": "9d98a4dc",
   "metadata": {},
   "source": [
    "### Training the LogisticRegression Model"
   ]
  },
  {
   "cell_type": "code",
   "execution_count": 12,
   "id": "60cc7202",
   "metadata": {},
   "outputs": [
    {
     "name": "stderr",
     "output_type": "stream",
     "text": [
      "c:\\python3.7\\lib\\site-packages\\sklearn\\utils\\validation.py:63: DataConversionWarning: A column-vector y was passed when a 1d array was expected. Please change the shape of y to (n_samples, ), for example using ravel().\n",
      "  return f(*args, **kwargs)\n"
     ]
    },
    {
     "data": {
      "text/plain": [
       "LogisticRegression()"
      ]
     },
     "execution_count": 12,
     "metadata": {},
     "output_type": "execute_result"
    }
   ],
   "source": [
    "from sklearn.linear_model import LogisticRegression\n",
    "classifier = LogisticRegression()\n",
    "classifier.fit(X_train,y_train)"
   ]
  },
  {
   "cell_type": "markdown",
   "id": "dd5c9101",
   "metadata": {},
   "source": [
    "### Making of confusion matrix and accuracy"
   ]
  },
  {
   "cell_type": "code",
   "execution_count": 14,
   "id": "9f76f287",
   "metadata": {},
   "outputs": [],
   "source": [
    "y_pred = classifier.predict(X_test)\n",
    "from sklearn.metrics import confusion_matrix,accuracy_score\n",
    "matrix = confusion_matrix(y_test,y_pred)\n",
    "accuracy = accuracy_score(y_test,y_pred)"
   ]
  },
  {
   "cell_type": "code",
   "execution_count": 15,
   "id": "e44995d3",
   "metadata": {},
   "outputs": [
    {
     "data": {
      "text/plain": [
       "array([[14,  0,  0],\n",
       "       [ 0, 16,  0],\n",
       "       [ 0,  0,  6]], dtype=int64)"
      ]
     },
     "execution_count": 15,
     "metadata": {},
     "output_type": "execute_result"
    }
   ],
   "source": [
    "matrix"
   ]
  },
  {
   "cell_type": "code",
   "execution_count": 17,
   "id": "e56db8e0",
   "metadata": {},
   "outputs": [
    {
     "name": "stdout",
     "output_type": "stream",
     "text": [
      "Accuracy is: 100.0%\n"
     ]
    }
   ],
   "source": [
    "print(f\"Accuracy is: {accuracy*100}%\")"
   ]
  }
 ],
 "metadata": {
  "kernelspec": {
   "display_name": "Python 3",
   "language": "python",
   "name": "python3"
  },
  "language_info": {
   "codemirror_mode": {
    "name": "ipython",
    "version": 3
   },
   "file_extension": ".py",
   "mimetype": "text/x-python",
   "name": "python",
   "nbconvert_exporter": "python",
   "pygments_lexer": "ipython3",
   "version": "3.7.1"
  }
 },
 "nbformat": 4,
 "nbformat_minor": 5
}
