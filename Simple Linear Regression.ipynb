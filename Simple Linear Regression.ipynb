{
 "cells": [
  {
   "cell_type": "markdown",
   "id": "536f9585",
   "metadata": {},
   "source": [
    "### Importing the libraries"
   ]
  },
  {
   "cell_type": "code",
   "execution_count": 1,
   "id": "e3beb6ac",
   "metadata": {},
   "outputs": [],
   "source": [
    "import numpy as np\n",
    "import pandas as pd"
   ]
  },
  {
   "cell_type": "code",
   "execution_count": 2,
   "id": "894d22d2",
   "metadata": {},
   "outputs": [
    {
     "data": {
      "text/html": [
       "<div>\n",
       "<style scoped>\n",
       "    .dataframe tbody tr th:only-of-type {\n",
       "        vertical-align: middle;\n",
       "    }\n",
       "\n",
       "    .dataframe tbody tr th {\n",
       "        vertical-align: top;\n",
       "    }\n",
       "\n",
       "    .dataframe thead th {\n",
       "        text-align: right;\n",
       "    }\n",
       "</style>\n",
       "<table border=\"1\" class=\"dataframe\">\n",
       "  <thead>\n",
       "    <tr style=\"text-align: right;\">\n",
       "      <th></th>\n",
       "      <th>ones</th>\n",
       "      <th>Size</th>\n",
       "      <th>Price</th>\n",
       "    </tr>\n",
       "  </thead>\n",
       "  <tbody>\n",
       "    <tr>\n",
       "      <th>0</th>\n",
       "      <td>1</td>\n",
       "      <td>6.1101</td>\n",
       "      <td>17.5920</td>\n",
       "    </tr>\n",
       "    <tr>\n",
       "      <th>1</th>\n",
       "      <td>1</td>\n",
       "      <td>5.5277</td>\n",
       "      <td>9.1302</td>\n",
       "    </tr>\n",
       "    <tr>\n",
       "      <th>2</th>\n",
       "      <td>1</td>\n",
       "      <td>8.5186</td>\n",
       "      <td>13.6620</td>\n",
       "    </tr>\n",
       "    <tr>\n",
       "      <th>3</th>\n",
       "      <td>1</td>\n",
       "      <td>7.0032</td>\n",
       "      <td>11.8540</td>\n",
       "    </tr>\n",
       "    <tr>\n",
       "      <th>4</th>\n",
       "      <td>1</td>\n",
       "      <td>5.8598</td>\n",
       "      <td>6.8233</td>\n",
       "    </tr>\n",
       "  </tbody>\n",
       "</table>\n",
       "</div>"
      ],
      "text/plain": [
       "   ones    Size    Price\n",
       "0     1  6.1101  17.5920\n",
       "1     1  5.5277   9.1302\n",
       "2     1  8.5186  13.6620\n",
       "3     1  7.0032  11.8540\n",
       "4     1  5.8598   6.8233"
      ]
     },
     "execution_count": 2,
     "metadata": {},
     "output_type": "execute_result"
    }
   ],
   "source": [
    "data = pd.read_csv(\"ex1data1.txt\")\n",
    "df = pd.DataFrame(data)\n",
    "df[\"ones\"] = 1\n",
    "df[\"ones\"] = df[\"ones\"].astype(\"int32\")\n",
    "df.head()\n",
    "cols = list(df.columns)\n",
    "one = cols.pop(cols.index(\"ones\"))\n",
    "cols.insert(0,one)\n",
    "df = df[cols]\n",
    "df.head()"
   ]
  },
  {
   "cell_type": "markdown",
   "id": "e2e1bbf5",
   "metadata": {},
   "source": [
    "### Dividing the feature vector and output vector"
   ]
  },
  {
   "cell_type": "code",
   "execution_count": 3,
   "id": "936e376f",
   "metadata": {},
   "outputs": [
    {
     "name": "stdout",
     "output_type": "stream",
     "text": [
      "[[0.]\n",
      " [0.]]\n"
     ]
    }
   ],
   "source": [
    "x = df.iloc[:,0:2].values\n",
    "y = df.iloc[:,-1].values\n",
    "m = y.size\n",
    "y  = y.reshape(m,1)\n",
    "theta = np.zeros(2).reshape(2,1)\n",
    "print(theta.reshape(2,1))"
   ]
  },
  {
   "cell_type": "markdown",
   "id": "25982150",
   "metadata": {},
   "source": [
    "### Dividing the dataset into test set and training set"
   ]
  },
  {
   "cell_type": "code",
   "execution_count": 4,
   "id": "fa8b9ca9",
   "metadata": {},
   "outputs": [
    {
     "data": {
      "text/plain": [
       "(77, 1)"
      ]
     },
     "execution_count": 4,
     "metadata": {},
     "output_type": "execute_result"
    }
   ],
   "source": [
    "from sklearn.model_selection import train_test_split\n",
    "x_train,x_test,y_train,y_test = train_test_split(x,y,test_size = 0.2,random_state=1)\n",
    "y_train.shape"
   ]
  },
  {
   "cell_type": "markdown",
   "id": "aeacd273",
   "metadata": {},
   "source": [
    "### Using cost function to compute initial cost"
   ]
  },
  {
   "cell_type": "code",
   "execution_count": 5,
   "id": "9793b973",
   "metadata": {},
   "outputs": [
    {
     "data": {
      "text/plain": [
       "35.55833026030779"
      ]
     },
     "execution_count": 5,
     "metadata": {},
     "output_type": "execute_result"
    }
   ],
   "source": [
    "def computecost(x,y,thet):\n",
    "    m  = y_train.size\n",
    "    prediction = x.dot(thet)\n",
    "    hypothesis = prediction - y\n",
    "    cost = 1/(2*m) * np.sum(hypothesis**2)\n",
    "    return cost\n",
    "j = computecost(x_train,y_train,theta)\n",
    "j"
   ]
  },
  {
   "cell_type": "markdown",
   "id": "3f603380",
   "metadata": {},
   "source": [
    "### Applying gradient descent"
   ]
  },
  {
   "cell_type": "code",
   "execution_count": 6,
   "id": "e5281590",
   "metadata": {},
   "outputs": [],
   "source": [
    "def gradient(x1,y1,thetaa,alph,itter):\n",
    "    j_cost = np.zeros(itter+1).reshape(itter+1,1)\n",
    "    for i in range(0,itter+1):\n",
    "        m  = y1.size\n",
    "        prediction = x1.dot(thetaa)\n",
    "        hypo = prediction - y1\n",
    "        delta = (hypo.T).dot(x1)\n",
    "        delta = delta.reshape(thetaa.size,1)\n",
    "        thetaa = thetaa - (alph/m) * delta\n",
    "        j_cost[i] = computecost(x1,y1,thetaa)\n",
    "    return(thetaa,j_cost)     "
   ]
  },
  {
   "cell_type": "code",
   "execution_count": 7,
   "id": "e452ae0f",
   "metadata": {},
   "outputs": [
    {
     "data": {
      "image/png": "[encoded data removed]",
      "text/plain": [
       "<Figure size 432x288 with 1 Axes>"
      ]
     },
     "metadata": {
      "needs_background": "light"
     },
     "output_type": "display_data"
    }
   ],
   "source": [
    "theta = np.zeros(2).reshape(2,1)\n",
    "parameter,cost = gradient(x_train,y_train,theta,0.001,100);\n",
    "import matplotlib.pyplot as plt\n",
    "x = np.arange(1,(cost.size)+1).reshape((cost.size),1)\n",
    "plt.plot(x,cost,\"b.-\")\n",
    "plt.xlabel(\"Iterations\")\n",
    "plt.ylabel(\"CostFunction\")\n",
    "plt.show()"
   ]
  },
  {
   "cell_type": "code",
   "execution_count": null,
   "id": "1c3a332b",
   "metadata": {},
   "outputs": [],
   "source": []
  }
 ],
 "metadata": {
  "kernelspec": {
   "display_name": "Python 3",
   "language": "python",
   "name": "python3"
  },
  "language_info": {
   "codemirror_mode": {
    "name": "ipython",
    "version": 3
   },
   "file_extension": ".py",
   "mimetype": "text/x-python",
   "name": "python",
   "nbconvert_exporter": "python",
   "pygments_lexer": "ipython3",
   "version": "3.7.1"
  }
 },
 "nbformat": 4,
 "nbformat_minor": 5
}
