{
 "cells": [
  {
   "cell_type": "markdown",
   "id": "e2e89c9b",
   "metadata": {},
   "source": [
    "### 1.SPARK'S FOUNDATION, #GRIPAUG21\n",
    "### 2.NAME-BHAVNEET SINGH\n",
    "### 3.INTERNSHIP FUNCTION-DATA SCIENCE AND BUSINESS ANALYTICS"
   ]
  },
  {
   "cell_type": "markdown",
   "id": "96085fd8",
   "metadata": {},
   "source": [
    "### TASK-1 OBJECTIVE\n",
    "Predict the percentage of an student based on the no. of study hours.\n",
    "What will be predicted score if a student studies for 9.25 hrs/ day?"
   ]
  },
  {
   "cell_type": "markdown",
   "id": "814ad6f8",
   "metadata": {},
   "source": [
    "### Importing the libraries"
   ]
  },
  {
   "cell_type": "code",
   "execution_count": 8,
   "id": "cd89d094",
   "metadata": {},
   "outputs": [],
   "source": [
    "import numpy as np\n",
    "import pandas as pd\n",
    "import matplotlib.pyplot as plt"
   ]
  },
  {
   "cell_type": "markdown",
   "id": "e4f32961",
   "metadata": {},
   "source": [
    "### Importing the datasets"
   ]
  },
  {
   "cell_type": "code",
   "execution_count": 9,
   "id": "c86df18b",
   "metadata": {},
   "outputs": [],
   "source": [
    "data = pd.read_csv('https://raw.githubusercontent.com/AdiPersonalWorks/Random/master/student_scores%20-%20student_scores.csv')"
   ]
  },
  {
   "cell_type": "code",
   "execution_count": 10,
   "id": "92dc70a4",
   "metadata": {},
   "outputs": [
    {
     "data": {
      "text/html": [
       "<div>\n",
       "<style scoped>\n",
       "    .dataframe tbody tr th:only-of-type {\n",
       "        vertical-align: middle;\n",
       "    }\n",
       "\n",
       "    .dataframe tbody tr th {\n",
       "        vertical-align: top;\n",
       "    }\n",
       "\n",
       "    .dataframe thead th {\n",
       "        text-align: right;\n",
       "    }\n",
       "</style>\n",
       "<table border=\"1\" class=\"dataframe\">\n",
       "  <thead>\n",
       "    <tr style=\"text-align: right;\">\n",
       "      <th></th>\n",
       "      <th>Hours</th>\n",
       "      <th>Scores</th>\n",
       "    </tr>\n",
       "  </thead>\n",
       "  <tbody>\n",
       "    <tr>\n",
       "      <th>0</th>\n",
       "      <td>2.5</td>\n",
       "      <td>21</td>\n",
       "    </tr>\n",
       "    <tr>\n",
       "      <th>1</th>\n",
       "      <td>5.1</td>\n",
       "      <td>47</td>\n",
       "    </tr>\n",
       "    <tr>\n",
       "      <th>2</th>\n",
       "      <td>3.2</td>\n",
       "      <td>27</td>\n",
       "    </tr>\n",
       "    <tr>\n",
       "      <th>3</th>\n",
       "      <td>8.5</td>\n",
       "      <td>75</td>\n",
       "    </tr>\n",
       "    <tr>\n",
       "      <th>4</th>\n",
       "      <td>3.5</td>\n",
       "      <td>30</td>\n",
       "    </tr>\n",
       "  </tbody>\n",
       "</table>\n",
       "</div>"
      ],
      "text/plain": [
       "   Hours  Scores\n",
       "0    2.5      21\n",
       "1    5.1      47\n",
       "2    3.2      27\n",
       "3    8.5      75\n",
       "4    3.5      30"
      ]
     },
     "execution_count": 10,
     "metadata": {},
     "output_type": "execute_result"
    }
   ],
   "source": [
    "data.head()"
   ]
  },
  {
   "cell_type": "markdown",
   "id": "af672462",
   "metadata": {},
   "source": [
    "### Initializing the variable"
   ]
  },
  {
   "cell_type": "code",
   "execution_count": 14,
   "id": "dfc28edf",
   "metadata": {},
   "outputs": [],
   "source": [
    "X = data.iloc[:,:-1].values\n",
    "y = data.iloc[:,-1:].values"
   ]
  },
  {
   "cell_type": "markdown",
   "id": "2d44c062",
   "metadata": {},
   "source": [
    "### Splitting the data into training set and test set"
   ]
  },
  {
   "cell_type": "code",
   "execution_count": 19,
   "id": "d1bd5fc1",
   "metadata": {},
   "outputs": [],
   "source": [
    "from sklearn.model_selection import train_test_split\n",
    "X_train,X_test,y_train,y_test = train_test_split(X,y,test_size=0.2,random_state=1)"
   ]
  },
  {
   "cell_type": "code",
   "execution_count": 20,
   "id": "235e2fc7",
   "metadata": {},
   "outputs": [
    {
     "data": {
      "text/plain": [
       "array([[7.7],\n",
       "       [6.1],\n",
       "       [7.4],\n",
       "       [3.5],\n",
       "       [3.2],\n",
       "       [2.7],\n",
       "       [9.2],\n",
       "       [5.5],\n",
       "       [3.8],\n",
       "       [5.1],\n",
       "       [2.5],\n",
       "       [2.5],\n",
       "       [8.9],\n",
       "       [7.8],\n",
       "       [6.9],\n",
       "       [2.7],\n",
       "       [8.3],\n",
       "       [4.5],\n",
       "       [5.9],\n",
       "       [1.5]])"
      ]
     },
     "execution_count": 20,
     "metadata": {},
     "output_type": "execute_result"
    }
   ],
   "source": [
    "X_train"
   ]
  },
  {
   "cell_type": "code",
   "execution_count": 21,
   "id": "32fe2659",
   "metadata": {},
   "outputs": [
    {
     "data": {
      "text/plain": [
       "array([[85],\n",
       "       [67],\n",
       "       [69],\n",
       "       [30],\n",
       "       [27],\n",
       "       [30],\n",
       "       [88],\n",
       "       [60],\n",
       "       [35],\n",
       "       [47],\n",
       "       [30],\n",
       "       [21],\n",
       "       [95],\n",
       "       [86],\n",
       "       [76],\n",
       "       [25],\n",
       "       [81],\n",
       "       [41],\n",
       "       [62],\n",
       "       [20]], dtype=int64)"
      ]
     },
     "execution_count": 21,
     "metadata": {},
     "output_type": "execute_result"
    }
   ],
   "source": [
    "y_train"
   ]
  },
  {
   "cell_type": "markdown",
   "id": "f708bac5",
   "metadata": {},
   "source": [
    "### Training the linear regression model"
   ]
  },
  {
   "cell_type": "code",
   "execution_count": 22,
   "id": "4f123645",
   "metadata": {},
   "outputs": [
    {
     "data": {
      "text/plain": [
       "LinearRegression()"
      ]
     },
     "execution_count": 22,
     "metadata": {},
     "output_type": "execute_result"
    }
   ],
   "source": [
    "from sklearn.linear_model import LinearRegression\n",
    "regressor = LinearRegression()\n",
    "regressor.fit(X_train,y_train)"
   ]
  },
  {
   "cell_type": "markdown",
   "id": "fed1c5f7",
   "metadata": {},
   "source": [
    "### Predicting the test results"
   ]
  },
  {
   "cell_type": "code",
   "execution_count": 24,
   "id": "8d131022",
   "metadata": {},
   "outputs": [
    {
     "data": {
      "text/plain": [
       "array([[ 9.97026179],\n",
       "       [32.98470004],\n",
       "       [18.33914843],\n",
       "       [87.38246316],\n",
       "       [48.67636248]])"
      ]
     },
     "execution_count": 24,
     "metadata": {},
     "output_type": "execute_result"
    }
   ],
   "source": [
    "y_pred = regressor.predict(X_test)\n",
    "y_pred"
   ]
  },
  {
   "cell_type": "markdown",
   "id": "bae4856f",
   "metadata": {},
   "source": [
    "### Cost-error between the predicted test_set and orignal test_set"
   ]
  },
  {
   "cell_type": "code",
   "execution_count": 28,
   "id": "e128e17d",
   "metadata": {},
   "outputs": [
    {
     "name": "stdout",
     "output_type": "stream",
     "text": [
      "Error is 8.30 %\n"
     ]
    }
   ],
   "source": [
    "from sklearn.metrics import mean_squared_error\n",
    "error = mean_squared_error(y_test,y_pred,squared=False) ##ROOT MEAN SQUARED ERROR\n",
    "print(\"Error is {:.2f} %\".format(error))"
   ]
  },
  {
   "cell_type": "markdown",
   "id": "028ac8a9",
   "metadata": {},
   "source": [
    "### Visualising the results"
   ]
  },
  {
   "cell_type": "markdown",
   "id": "e820f001",
   "metadata": {},
   "source": [
    "1.Training-set results"
   ]
  },
  {
   "cell_type": "code",
   "execution_count": 33,
   "id": "479c95a7",
   "metadata": {},
   "outputs": [
    {
     "data": {
      "image/png": "[encoded data removed]",
      "text/plain": [
       "<Figure size 432x288 with 1 Axes>"
      ]
     },
     "metadata": {
      "needs_background": "light"
     },
     "output_type": "display_data"
    }
   ],
   "source": [
    "y_train_pred = regressor.predict(X_train)\n",
    "plt.scatter(X_train,y_train)\n",
    "plt.plot(X_train,y_train_pred)\n",
    "plt.title('Training set FIT')\n",
    "plt.xlabel('HRS. SPENT')\n",
    "plt.ylabel('Scores')\n",
    "plt.show()"
   ]
  },
  {
   "cell_type": "markdown",
   "id": "5b70b562",
   "metadata": {},
   "source": [
    "2.Test-set results "
   ]
  },
  {
   "cell_type": "code",
   "execution_count": 35,
   "id": "e46e9629",
   "metadata": {},
   "outputs": [
    {
     "data": {
      "image/png": "[encoded data removed]",
      "text/plain": [
       "<Figure size 432x288 with 1 Axes>"
      ]
     },
     "metadata": {
      "needs_background": "light"
     },
     "output_type": "display_data"
    }
   ],
   "source": [
    "plt.scatter(X_test,y_test)\n",
    "plt.plot(X_test,y_pred)\n",
    "plt.title('Test set FIT')\n",
    "plt.xlabel('HRS. SPENT')\n",
    "plt.ylabel('Scores')\n",
    "plt.show()"
   ]
  },
  {
   "cell_type": "markdown",
   "id": "b4aa6963",
   "metadata": {},
   "source": [
    "### Q. What will be predicted score if a student studies for 9.25 hrs/ day?"
   ]
  },
  {
   "cell_type": "code",
   "execution_count": 37,
   "id": "d7d357f4",
   "metadata": {},
   "outputs": [
    {
     "name": "stdout",
     "output_type": "stream",
     "text": [
      "If a student studies for 9.25 hrs/day,his/her score would be : 95\n"
     ]
    }
   ],
   "source": [
    "hr = np.array([[9.25]])\n",
    "res = regressor.predict(hr)\n",
    "print(f\"If a student studies for 9.25 hrs/day,his/her score would be : {int(res)}\")"
   ]
  }
 ],
 "metadata": {
  "kernelspec": {
   "display_name": "Python 3",
   "language": "python",
   "name": "python3"
  },
  "language_info": {
   "codemirror_mode": {
    "name": "ipython",
    "version": 3
   },
   "file_extension": ".py",
   "mimetype": "text/x-python",
   "name": "python",
   "nbconvert_exporter": "python",
   "pygments_lexer": "ipython3",
   "version": "3.7.1"
  }
 },
 "nbformat": 4,
 "nbformat_minor": 5
}
