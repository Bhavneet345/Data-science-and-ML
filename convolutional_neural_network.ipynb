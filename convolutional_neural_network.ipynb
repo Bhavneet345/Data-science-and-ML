{
 "cells": [
  {
   "cell_type": "markdown",
   "id": "52d5fe95",
   "metadata": {},
   "source": [
    "### Importing the libraries"
   ]
  },
  {
   "cell_type": "code",
   "execution_count": 1,
   "id": "4fa8ef0b",
   "metadata": {},
   "outputs": [],
   "source": [
    "import tensorflow as tf\n",
    "from keras.preprocessing.image import ImageDataGenerator "
   ]
  },
  {
   "cell_type": "markdown",
   "id": "38f685c9",
   "metadata": {},
   "source": [
    "### Data Preprocessing"
   ]
  },
  {
   "cell_type": "markdown",
   "id": "104791ac",
   "metadata": {},
   "source": [
    "1. Preprocessing the Training set"
   ]
  },
  {
   "cell_type": "code",
   "execution_count": 2,
   "id": "fd7dca88",
   "metadata": {},
   "outputs": [
    {
     "name": "stdout",
     "output_type": "stream",
     "text": [
      "Found 8000 images belonging to 2 classes.\n"
     ]
    }
   ],
   "source": [
    "train_datagen = ImageDataGenerator(\n",
    "        rescale=1./255,\n",
    "        shear_range=0.2,\n",
    "        zoom_range=0.2,\n",
    "        horizontal_flip=True)\n",
    "training_set = train_datagen.flow_from_directory(\n",
    "        './/Section+40+-+Convolutional+Neural+Networks+(CNN)//Section 40 - Convolutional Neural Networks (CNN)//dataset//training_set',\n",
    "        target_size=(64, 64),\n",
    "        batch_size=32,\n",
    "        class_mode='binary')"
   ]
  },
  {
   "cell_type": "markdown",
   "id": "eab9b40b",
   "metadata": {},
   "source": [
    "2.Preprocessing the test set"
   ]
  },
  {
   "cell_type": "code",
   "execution_count": 3,
   "id": "b28e2881",
   "metadata": {},
   "outputs": [
    {
     "name": "stdout",
     "output_type": "stream",
     "text": [
      "Found 2000 images belonging to 2 classes.\n"
     ]
    }
   ],
   "source": [
    "test_datagen = ImageDataGenerator(rescale=1./255)\n",
    "test_set = test_datagen.flow_from_directory(\n",
    "        './/Section+40+-+Convolutional+Neural+Networks+(CNN)//Section 40 - Convolutional Neural Networks (CNN)//dataset//test_set',\n",
    "        target_size=(64,64),\n",
    "        batch_size=32,\n",
    "        class_mode='binary')"
   ]
  },
  {
   "cell_type": "markdown",
   "id": "009c059b",
   "metadata": {},
   "source": [
    "### Building the CNN"
   ]
  },
  {
   "cell_type": "markdown",
   "id": "1fa497d4",
   "metadata": {},
   "source": [
    "1.Initializing the CNN"
   ]
  },
  {
   "cell_type": "code",
   "execution_count": 4,
   "id": "66e16ab0",
   "metadata": {},
   "outputs": [],
   "source": [
    "cnn = tf.keras.models.Sequential()"
   ]
  },
  {
   "cell_type": "markdown",
   "id": "888d5308",
   "metadata": {},
   "source": [
    "Step1 - Covolution"
   ]
  },
  {
   "cell_type": "code",
   "execution_count": 5,
   "id": "8e8f0ead",
   "metadata": {},
   "outputs": [],
   "source": [
    "### Adding the first convolutional layer\n",
    "cnn.add(tf.keras.layers.Conv2D(filters=32,kernel_size=3,activation='relu',input_shape=[64,64,3]))"
   ]
  },
  {
   "cell_type": "markdown",
   "id": "5a33fa71",
   "metadata": {},
   "source": [
    "Step2-Pooling"
   ]
  },
  {
   "cell_type": "code",
   "execution_count": 6,
   "id": "0d685af9",
   "metadata": {},
   "outputs": [],
   "source": [
    "cnn.add(tf.keras.layers.MaxPool2D(pool_size=2,strides=2))"
   ]
  },
  {
   "cell_type": "markdown",
   "id": "58672cb4",
   "metadata": {},
   "source": [
    "2.Adding a second covolutional layer"
   ]
  },
  {
   "cell_type": "code",
   "execution_count": 7,
   "id": "847668f6",
   "metadata": {},
   "outputs": [],
   "source": [
    "cnn.add(tf.keras.layers.Conv2D(filters=32,kernel_size=3,activation='relu'))\n",
    "cnn.add(tf.keras.layers.MaxPool2D(strides = 2, pool_size = 2))"
   ]
  },
  {
   "cell_type": "markdown",
   "id": "07f4cac0",
   "metadata": {},
   "source": [
    "Step3-Flattening"
   ]
  },
  {
   "cell_type": "code",
   "execution_count": 8,
   "id": "f9a09bd9",
   "metadata": {},
   "outputs": [],
   "source": [
    "cnn.add(tf.keras.layers.Flatten())"
   ]
  },
  {
   "cell_type": "markdown",
   "id": "eaf33074",
   "metadata": {},
   "source": [
    "Step4-Full Connection"
   ]
  },
  {
   "cell_type": "code",
   "execution_count": 9,
   "id": "4d0cffa6",
   "metadata": {},
   "outputs": [],
   "source": [
    "cnn.add(tf.keras.layers.Dense(units=128,activation='relu'))"
   ]
  },
  {
   "cell_type": "markdown",
   "id": "c6f5391f",
   "metadata": {},
   "source": [
    "Step5-Output Layer"
   ]
  },
  {
   "cell_type": "code",
   "execution_count": 10,
   "id": "5262713b",
   "metadata": {},
   "outputs": [],
   "source": [
    "cnn.add(tf.keras.layers.Dense(units=1,activation='sigmoid'))"
   ]
  },
  {
   "cell_type": "markdown",
   "id": "8d3b013c",
   "metadata": {},
   "source": [
    "### Training the CNN"
   ]
  },
  {
   "cell_type": "markdown",
   "id": "3cf1d909",
   "metadata": {},
   "source": [
    "1.Compile the CNN"
   ]
  },
  {
   "cell_type": "code",
   "execution_count": 11,
   "id": "f64dff43",
   "metadata": {},
   "outputs": [],
   "source": [
    "cnn.compile(optimizer='adam',loss='binary_crossentropy',metrics=['accuracy']) "
   ]
  },
  {
   "cell_type": "markdown",
   "id": "6182397f",
   "metadata": {},
   "source": [
    "2.Training the CNN on the Training set and evaluating on testset"
   ]
  },
  {
   "cell_type": "code",
   "execution_count": 13,
   "id": "aca6e34b",
   "metadata": {},
   "outputs": [
    {
     "name": "stdout",
     "output_type": "stream",
     "text": [
      "Epoch 1/25\n",
      "250/250 [==============================] - 305s 1s/step - loss: 0.6803 - accuracy: 0.5635 - val_loss: 0.6446 - val_accuracy: 0.6385\n",
      "Epoch 2/25\n",
      "250/250 [==============================] - 81s 325ms/step - loss: 0.6290 - accuracy: 0.6496 - val_loss: 0.5875 - val_accuracy: 0.6865\n",
      "Epoch 3/25\n",
      "250/250 [==============================] - 72s 288ms/step - loss: 0.5926 - accuracy: 0.6809 - val_loss: 0.5993 - val_accuracy: 0.6845\n",
      "Epoch 4/25\n",
      "250/250 [==============================] - 69s 275ms/step - loss: 0.5478 - accuracy: 0.7200 - val_loss: 0.5141 - val_accuracy: 0.7495\n",
      "Epoch 5/25\n",
      "250/250 [==============================] - 69s 276ms/step - loss: 0.5290 - accuracy: 0.7320 - val_loss: 0.5340 - val_accuracy: 0.7340\n",
      "Epoch 6/25\n",
      "250/250 [==============================] - 71s 284ms/step - loss: 0.4954 - accuracy: 0.7610 - val_loss: 0.5201 - val_accuracy: 0.7520\n",
      "Epoch 7/25\n",
      "250/250 [==============================] - 71s 282ms/step - loss: 0.4849 - accuracy: 0.7644 - val_loss: 0.5070 - val_accuracy: 0.7700\n",
      "Epoch 8/25\n",
      "250/250 [==============================] - 75s 302ms/step - loss: 0.4631 - accuracy: 0.7784 - val_loss: 0.4841 - val_accuracy: 0.7705\n",
      "Epoch 9/25\n",
      "250/250 [==============================] - 70s 281ms/step - loss: 0.4431 - accuracy: 0.7925 - val_loss: 0.5083 - val_accuracy: 0.7695\n",
      "Epoch 10/25\n",
      "250/250 [==============================] - 71s 285ms/step - loss: 0.4282 - accuracy: 0.8041 - val_loss: 0.4930 - val_accuracy: 0.7865\n",
      "Epoch 11/25\n",
      "250/250 [==============================] - 71s 285ms/step - loss: 0.4173 - accuracy: 0.8010 - val_loss: 0.4719 - val_accuracy: 0.7885\n",
      "Epoch 12/25\n",
      "250/250 [==============================] - 71s 284ms/step - loss: 0.3977 - accuracy: 0.8185 - val_loss: 0.4690 - val_accuracy: 0.7965\n",
      "Epoch 13/25\n",
      "250/250 [==============================] - 72s 287ms/step - loss: 0.3822 - accuracy: 0.8255 - val_loss: 0.4770 - val_accuracy: 0.7990\n",
      "Epoch 14/25\n",
      "250/250 [==============================] - 74s 294ms/step - loss: 0.3682 - accuracy: 0.8355 - val_loss: 0.4468 - val_accuracy: 0.8070\n",
      "Epoch 15/25\n",
      "250/250 [==============================] - 171s 686ms/step - loss: 0.3637 - accuracy: 0.8390 - val_loss: 0.4798 - val_accuracy: 0.8000\n",
      "Epoch 16/25\n",
      "250/250 [==============================] - 219s 878ms/step - loss: 0.3470 - accuracy: 0.8471 - val_loss: 0.4649 - val_accuracy: 0.7875\n",
      "Epoch 17/25\n",
      "250/250 [==============================] - 185s 740ms/step - loss: 0.3345 - accuracy: 0.8551 - val_loss: 0.5110 - val_accuracy: 0.7840\n",
      "Epoch 18/25\n",
      "250/250 [==============================] - 182s 728ms/step - loss: 0.3208 - accuracy: 0.8591 - val_loss: 0.4734 - val_accuracy: 0.8005\n",
      "Epoch 19/25\n",
      "250/250 [==============================] - 163s 653ms/step - loss: 0.3106 - accuracy: 0.8644 - val_loss: 0.5876 - val_accuracy: 0.7725\n",
      "Epoch 20/25\n",
      "250/250 [==============================] - 89s 355ms/step - loss: 0.2970 - accuracy: 0.8684 - val_loss: 0.4548 - val_accuracy: 0.8130\n",
      "Epoch 21/25\n",
      "250/250 [==============================] - 85s 339ms/step - loss: 0.2876 - accuracy: 0.8764 - val_loss: 0.5537 - val_accuracy: 0.7880\n",
      "Epoch 22/25\n",
      "250/250 [==============================] - 78s 312ms/step - loss: 0.2712 - accuracy: 0.8850 - val_loss: 0.5799 - val_accuracy: 0.7705\n",
      "Epoch 23/25\n",
      "250/250 [==============================] - 73s 293ms/step - loss: 0.2695 - accuracy: 0.8863 - val_loss: 0.5759 - val_accuracy: 0.7880\n",
      "Epoch 24/25\n",
      "250/250 [==============================] - 74s 295ms/step - loss: 0.2602 - accuracy: 0.8890 - val_loss: 0.5467 - val_accuracy: 0.7840\n",
      "Epoch 25/25\n",
      "250/250 [==============================] - 90s 362ms/step - loss: 0.2359 - accuracy: 0.9040 - val_loss: 0.5566 - val_accuracy: 0.7955\n"
     ]
    },
    {
     "data": {
      "text/plain": [
       "<tensorflow.python.keras.callbacks.History at 0x2c629e50f98>"
      ]
     },
     "execution_count": 13,
     "metadata": {},
     "output_type": "execute_result"
    }
   ],
   "source": [
    "cnn.fit(x = training_set,validation_data = test_set,epochs = 25)"
   ]
  },
  {
   "cell_type": "code",
   "execution_count": 29,
   "id": "0f0eeadd",
   "metadata": {},
   "outputs": [
    {
     "name": "stdout",
     "output_type": "stream",
     "text": [
      "Prediction of image class : dog\n"
     ]
    }
   ],
   "source": [
    "import numpy as np\n",
    "from keras.preprocessing import image\n",
    "test_image = image.load_img('.//Section+40+-+Convolutional+Neural+Networks+(CNN)//Section 40 - Convolutional Neural Networks (CNN)//dataset//single_prediction//img2.jpg'\n",
    "                               ,target_size = (64,64))\n",
    "test_image = image.img_to_array(test_image)\n",
    "test_image = np.expand_dims(test_image,axis=0)\n",
    "result = cnn.predict(test_image)\n",
    "if result[0][0] == 1:\n",
    "    prediction = 'dog'\n",
    "else:\n",
    "    prediction = 'cat'\n",
    "print(f\"Prediction of image class : {prediction}\")"
   ]
  }
 ],
 "metadata": {
  "kernelspec": {
   "display_name": "Python 3",
   "language": "python",
   "name": "python3"
  },
  "language_info": {
   "codemirror_mode": {
    "name": "ipython",
    "version": 3
   },
   "file_extension": ".py",
   "mimetype": "text/x-python",
   "name": "python",
   "nbconvert_exporter": "python",
   "pygments_lexer": "ipython3",
   "version": "3.7.1"
  }
 },
 "nbformat": 4,
 "nbformat_minor": 5
}
