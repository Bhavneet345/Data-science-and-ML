{
 "cells": [
  {
   "cell_type": "markdown",
   "id": "f521aaf7",
   "metadata": {},
   "source": [
    "### Importing the libraries"
   ]
  },
  {
   "cell_type": "code",
   "execution_count": 1,
   "id": "e5884c83",
   "metadata": {},
   "outputs": [],
   "source": [
    "import pandas as pd\n",
    "import numpy as np\n",
    "import matplotlib.pyplot as plt"
   ]
  },
  {
   "cell_type": "markdown",
   "id": "027d40bf",
   "metadata": {},
   "source": [
    "### Importing the datasets"
   ]
  },
  {
   "cell_type": "code",
   "execution_count": 94,
   "id": "57a82036",
   "metadata": {},
   "outputs": [],
   "source": [
    "data = pd.read_csv(\"50_Startups.csv\")\n",
    "X = data.iloc[:,:-1].values\n",
    "y = data.iloc[:,-1:].values"
   ]
  },
  {
   "cell_type": "markdown",
   "id": "56e2e0fd",
   "metadata": {},
   "source": [
    "### Encoding the categorical data(always contain only k-1 labels after encoding if k lables are present)"
   ]
  },
  {
   "cell_type": "code",
   "execution_count": 95,
   "id": "3eda7699",
   "metadata": {},
   "outputs": [],
   "source": [
    "from sklearn.compose import ColumnTransformer\n",
    "from sklearn.preprocessing import OneHotEncoder\n",
    "ct = ColumnTransformer(transformers=[('encoder',OneHotEncoder(),[3])],remainder=\"passthrough\")\n",
    "X = np.array(ct.fit_transform(X))"
   ]
  },
  {
   "cell_type": "markdown",
   "id": "afa84e04",
   "metadata": {},
   "source": [
    "### Spliting the data into test and train set"
   ]
  },
  {
   "cell_type": "code",
   "execution_count": 96,
   "id": "dbd204c4",
   "metadata": {},
   "outputs": [],
   "source": [
    "from sklearn.model_selection import train_test_split\n",
    "X_train,X_test,y_train,y_test = train_test_split(X,y,test_size=0.2,random_state=0)"
   ]
  },
  {
   "cell_type": "markdown",
   "id": "279e9559",
   "metadata": {},
   "source": [
    "### Training the model on training set"
   ]
  },
  {
   "cell_type": "code",
   "execution_count": 97,
   "id": "55248f32",
   "metadata": {},
   "outputs": [
    {
     "data": {
      "text/plain": [
       "LinearRegression()"
      ]
     },
     "execution_count": 97,
     "metadata": {},
     "output_type": "execute_result"
    }
   ],
   "source": [
    "from sklearn.linear_model import LinearRegression\n",
    "regressor = LinearRegression()\n",
    "regressor.fit(X_train,y_train)"
   ]
  },
  {
   "cell_type": "markdown",
   "id": "0c202dc3",
   "metadata": {},
   "source": [
    "### Predicting the test results"
   ]
  },
  {
   "cell_type": "code",
   "execution_count": 112,
   "id": "02c8491f",
   "metadata": {},
   "outputs": [
    {
     "name": "stdout",
     "output_type": "stream",
     "text": [
      "[[103015.2  103282.38]\n",
      " [132582.28 144259.4 ]\n",
      " [132447.74 146121.95]\n",
      " [ 71976.1   77798.83]\n",
      " [178537.48 191050.39]\n",
      " [116161.24 105008.31]\n",
      " [ 67851.69  81229.06]\n",
      " [ 98791.73  97483.56]\n",
      " [113969.44 110352.25]\n",
      " [167921.07 166187.94]]\n"
     ]
    }
   ],
   "source": [
    "y_pred = regressor.predict(X_test)\n",
    "np.set_printoptions(precision=2)\n",
    "print(np.concatenate((y_pred.reshape(y_pred.size,1),y_test.reshape(y_test.size,1)),1))"
   ]
  },
  {
   "cell_type": "markdown",
   "id": "b0445e27",
   "metadata": {},
   "source": [
    "### Getting the coefficients"
   ]
  },
  {
   "cell_type": "code",
   "execution_count": 92,
   "id": "5c97c67c",
   "metadata": {},
   "outputs": [],
   "source": [
    "intercpt = regressor.intercept_ \n",
    "coeffs = regressor.coef_"
   ]
  },
  {
   "cell_type": "markdown",
   "id": "55b55b55",
   "metadata": {},
   "source": [
    "### Predicting the results for another dataset"
   ]
  },
  {
   "cell_type": "code",
   "execution_count": 91,
   "id": "cdfa043c",
   "metadata": {},
   "outputs": [],
   "source": [
    "data1 = pd.read_csv(\"ex1data2.txt\")\n",
    "X1 = data1.iloc[:,:-1].values\n",
    "y1= data1.iloc[:,-1:].values"
   ]
  },
  {
   "cell_type": "markdown",
   "id": "fd9393e9",
   "metadata": {},
   "source": [
    "### Applying feature scaling"
   ]
  },
  {
   "cell_type": "code",
   "execution_count": 89,
   "id": "1eea2854",
   "metadata": {},
   "outputs": [],
   "source": [
    "from sklearn.preprocessing import StandardScaler\n",
    "scaler = StandardScaler()\n",
    "X1  =scaler.fit_transform(X1)"
   ]
  },
  {
   "cell_type": "markdown",
   "id": "c7bad71a",
   "metadata": {},
   "source": [
    "### Predicting the results"
   ]
  },
  {
   "cell_type": "code",
   "execution_count": 115,
   "id": "4cf6e81b",
   "metadata": {},
   "outputs": [
    {
     "name": "stdout",
     "output_type": "stream",
     "text": [
      "[[285258.  329900. ]\n",
      " [396262.7 369000. ]\n",
      " [267913.3 232000. ]\n",
      " [471329.9 539900. ]\n",
      " [330492.6 299900. ]\n",
      " [276100.1 314900. ]\n",
      " [261253.2 198999. ]\n",
      " [254731.7 212000. ]\n",
      " [270549.9 242500. ]\n",
      " [324248.6 239999. ]\n",
      " [340760.4 347000. ]\n",
      " [325497.2 329999. ]\n",
      " [668224.7 699900. ]\n",
      " [239191.1 259900. ]\n",
      " [374200.7 449900. ]\n",
      " [254592.7 299900. ]\n",
      " [234750.9 199900. ]\n",
      " [417076.3 499998. ]\n",
      " [475631.3 599000. ]\n",
      " [308430.2 252900. ]\n",
      " [333406.1 255000. ]\n",
      " [285813.  242900. ]\n",
      " [327301.3 259900. ]\n",
      " [603009.  573900. ]\n",
      " [215880.1 249900. ]\n",
      " [265554.7 464500. ]\n",
      " [413746.  469000. ]\n",
      " [368511.5 475000. ]\n",
      " [429147.9 299900. ]\n",
      " [326607.  349900. ]\n",
      " [218377.2 169900. ]\n",
      " [338124.2 314900. ]\n",
      " [498525.8 579900. ]\n",
      " [306349.1 285900. ]\n",
      " [262640.8 249900. ]\n",
      " [235167.1 229900. ]\n",
      " [350889.8 345000. ]\n",
      " [639918.2 549000. ]\n",
      " [355052.4 287000. ]\n",
      " [302324.8 368500. ]\n",
      " [373784.3 329900. ]\n",
      " [411248.6 314000. ]\n",
      " [229755.7 299000. ]\n",
      " [189655.  179900. ]\n",
      " [312038.1 299900. ]\n",
      " [230171.9 239500. ]]\n"
     ]
    }
   ],
   "source": [
    "regressor_new = LinearRegression()\n",
    "regressor_new.fit(X1,y1)\n",
    "prediction = regressor_new.predict(X1)\n",
    "np.set_printoptions(precision=1)\n",
    "res = np.concatenate((prediction.reshape(prediction.size,1),y1.reshape(y1.size,1)),1)\n",
    "print(res)"
   ]
  }
 ],
 "metadata": {
  "kernelspec": {
   "display_name": "Python 3",
   "language": "python",
   "name": "python3"
  },
  "language_info": {
   "codemirror_mode": {
    "name": "ipython",
    "version": 3
   },
   "file_extension": ".py",
   "mimetype": "text/x-python",
   "name": "python",
   "nbconvert_exporter": "python",
   "pygments_lexer": "ipython3",
   "version": "3.7.1"
  }
 },
 "nbformat": 4,
 "nbformat_minor": 5
}
